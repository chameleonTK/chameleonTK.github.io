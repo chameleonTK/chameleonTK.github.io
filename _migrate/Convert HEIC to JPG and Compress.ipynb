{
 "cells": [
  {
   "cell_type": "code",
   "execution_count": 17,
   "id": "e6c69eb6-bd27-4022-a19a-fa74de8343fb",
   "metadata": {},
   "outputs": [],
   "source": [
    "# ls ../assets/feats/year-in-review-2024/HEIC"
   ]
  },
  {
   "cell_type": "code",
   "execution_count": 18,
   "id": "21d93c5a",
   "metadata": {},
   "outputs": [],
   "source": [
    "# mkdir ls ../assets/feats/year-in-review-2024/JPG"
   ]
  },
  {
   "cell_type": "code",
   "execution_count": null,
   "id": "be8a6789",
   "metadata": {},
   "outputs": [],
   "source": [
    "# brew install imagemagick"
   ]
  },
  {
   "cell_type": "code",
   "execution_count": 22,
   "id": "a1419d23",
   "metadata": {},
   "outputs": [],
   "source": [
    "import os, subprocess\n",
    "\n",
    "jpgdirectory = '../assets/feats/year-in-review-2024/JPG'\n",
    "files = {}\n",
    "for filename in os.listdir(jpgdirectory):\n",
    "    files[filename[0:-4]] = True\n",
    "\n",
    "\n",
    "heifdirectory = '../assets/feats/year-in-review-2024/HEIC'\n",
    "\n",
    "for filename in os.listdir(heifdirectory):\n",
    "    if filename[0:-5] in files:\n",
    "        continue \n",
    "        \n",
    "    print(filename) \n",
    "    if filename.lower().endswith(\".heic\"): \n",
    "        print('Converting %s...' % os.path.join(heifdirectory, filename))\n",
    "        subprocess.run([\"magick\", \"%s\" % os.path.join(heifdirectory, filename), \"%s\" % os.path.join(jpgdirectory, (filename[0:-5] + '.jpg'))])\n",
    "        continue\n",
    "#         break"
   ]
  },
  {
   "cell_type": "code",
   "execution_count": null,
   "id": "99d8fe16",
   "metadata": {},
   "outputs": [],
   "source": []
  },
  {
   "cell_type": "code",
   "execution_count": 23,
   "id": "1686b6ea",
   "metadata": {},
   "outputs": [],
   "source": [
    "# mkdir ../assets/feats/year-in-review-2024/compressed"
   ]
  },
  {
   "cell_type": "code",
   "execution_count": 24,
   "id": "7208dad0",
   "metadata": {},
   "outputs": [
    {
     "name": "stdout",
     "output_type": "stream",
     "text": [
      "20\n",
      "40\n",
      "60\n",
      "80\n",
      "100\n",
      "120\n"
     ]
    }
   ],
   "source": [
    "from io import BytesIO\n",
    "from PIL import Image\n",
    "\n",
    "\n",
    "compdirectory = '../assets/feats/year-in-review-2024/compressed'\n",
    "\n",
    "files = {}\n",
    "for filename in os.listdir(compdirectory):\n",
    "    files[filename] = True\n",
    "\n",
    "cc = 0\n",
    "for filename in os.listdir(jpgdirectory):\n",
    "    try:\n",
    "        if filename in files:\n",
    "            continue \n",
    "\n",
    "        cc += 1\n",
    "        if cc%20==0:\n",
    "            print(cc)\n",
    "\n",
    "        im1 = Image.open(f\"{jpgdirectory}/{filename}\")\n",
    "        buffer = BytesIO()\n",
    "        im1.save(buffer, \"JPEG\", optimize=True, quality=30)\n",
    "\n",
    "        # ... do something else ...\n",
    "\n",
    "        # write the buffer to a file to make sure it worked\n",
    "        with open(f\"{compdirectory}/{filename}\", \"wb\") as handle:\n",
    "            handle.write(buffer.getbuffer())\n",
    "    except:\n",
    "        print(\"ERROR\", filename)"
   ]
  },
  {
   "cell_type": "code",
   "execution_count": 25,
   "id": "96cd94f9",
   "metadata": {},
   "outputs": [
    {
     "data": {
      "text/plain": [
       "'DONE'"
      ]
     },
     "execution_count": 25,
     "metadata": {},
     "output_type": "execute_result"
    }
   ],
   "source": [
    "\"DONE\""
   ]
  },
  {
   "cell_type": "code",
   "execution_count": null,
   "id": "5efd34e7",
   "metadata": {},
   "outputs": [],
   "source": []
  },
  {
   "cell_type": "code",
   "execution_count": null,
   "id": "e10f704b",
   "metadata": {},
   "outputs": [],
   "source": []
  }
 ],
 "metadata": {
  "kernelspec": {
   "display_name": "Python 3 (ipykernel)",
   "language": "python",
   "name": "python3"
  },
  "language_info": {
   "codemirror_mode": {
    "name": "ipython",
    "version": 3
   },
   "file_extension": ".py",
   "mimetype": "text/x-python",
   "name": "python",
   "nbconvert_exporter": "python",
   "pygments_lexer": "ipython3",
   "version": "3.9.6"
  }
 },
 "nbformat": 4,
 "nbformat_minor": 5
}
