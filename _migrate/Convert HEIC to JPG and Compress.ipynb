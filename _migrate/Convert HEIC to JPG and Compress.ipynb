{
 "cells": [
  {
   "cell_type": "code",
   "execution_count": 5,
   "id": "39fe7edb",
   "metadata": {},
   "outputs": [
    {
     "name": "stdout",
     "output_type": "stream",
     "text": [
      "IMG_5475.HEIC  IMG_5615.HEIC  IMG_5752.HEIC  IMG_5890.HEIC  IMG_6552.HEIC\r\n",
      "IMG_5476.HEIC  IMG_5616.HEIC  IMG_5753.HEIC  IMG_5891.HEIC  IMG_6553.HEIC\r\n",
      "IMG_5477.HEIC  IMG_5617.HEIC  IMG_5754.HEIC  IMG_5892.HEIC  IMG_6554.HEIC\r\n",
      "IMG_5478.HEIC  IMG_5618.HEIC  IMG_5755.HEIC  IMG_5893.HEIC  IMG_6555.HEIC\r\n",
      "IMG_5482.HEIC  IMG_5619.HEIC  IMG_5756.HEIC  IMG_5894.HEIC  IMG_6556.HEIC\r\n",
      "IMG_5483.HEIC  IMG_5620.HEIC  IMG_5757.HEIC  IMG_5895.HEIC  IMG_6558.HEIC\r\n",
      "IMG_5484.HEIC  IMG_5621.HEIC  IMG_5758.HEIC  IMG_5896.HEIC  IMG_6559.HEIC\r\n",
      "IMG_5485.HEIC  IMG_5622.HEIC  IMG_5759.HEIC  IMG_5897.HEIC  IMG_6560.HEIC\r\n",
      "IMG_5486.HEIC  IMG_5623.HEIC  IMG_5760.HEIC  IMG_5898.HEIC  IMG_6561.HEIC\r\n",
      "IMG_5487.HEIC  IMG_5624.HEIC  IMG_5761.HEIC  IMG_5899.HEIC  IMG_6562.HEIC\r\n",
      "IMG_5488.HEIC  IMG_5625.HEIC  IMG_5762.HEIC  IMG_5900.HEIC  IMG_6563.HEIC\r\n",
      "IMG_5491.HEIC  IMG_5626.HEIC  IMG_5763.HEIC  IMG_5901.HEIC  IMG_6564.HEIC\r\n",
      "IMG_5492.HEIC  IMG_5627.HEIC  IMG_5764.HEIC  IMG_5902.HEIC  IMG_6567.HEIC\r\n",
      "IMG_5493.HEIC  IMG_5628.HEIC  IMG_5765.HEIC  IMG_5903.HEIC  IMG_6568.HEIC\r\n",
      "IMG_5498.HEIC  IMG_5629.HEIC  IMG_5766.HEIC  IMG_5904.HEIC  IMG_6570.HEIC\r\n",
      "IMG_5500.HEIC  IMG_5630.HEIC  IMG_5767.HEIC  IMG_5905.HEIC  IMG_6571.HEIC\r\n",
      "IMG_5501.HEIC  IMG_5631.HEIC  IMG_5768.HEIC  IMG_5906.HEIC  IMG_6572.HEIC\r\n",
      "IMG_5502.HEIC  IMG_5632.HEIC  IMG_5769.HEIC  IMG_5907.HEIC  IMG_6574.HEIC\r\n",
      "IMG_5503.HEIC  IMG_5633.HEIC  IMG_5770.HEIC  IMG_5908.HEIC  IMG_6575.HEIC\r\n",
      "IMG_5504.HEIC  IMG_5634.HEIC  IMG_5771.HEIC  IMG_5909.HEIC  IMG_6577.HEIC\r\n",
      "IMG_5505.HEIC  IMG_5635.HEIC  IMG_5772.HEIC  IMG_5910.HEIC  IMG_6578.HEIC\r\n",
      "IMG_5506.HEIC  IMG_5636.HEIC  IMG_5773.HEIC  IMG_5911.HEIC  IMG_6579.HEIC\r\n",
      "IMG_5507.HEIC  IMG_5637.HEIC  IMG_5774.HEIC  IMG_5912.HEIC  IMG_6580.HEIC\r\n",
      "IMG_5508.HEIC  IMG_5638.HEIC  IMG_5775.HEIC  IMG_5913.HEIC  IMG_6581.HEIC\r\n",
      "IMG_5509.HEIC  IMG_5639.HEIC  IMG_5776.HEIC  IMG_5914.HEIC  IMG_6582.HEIC\r\n",
      "IMG_5510.HEIC  IMG_5640.HEIC  IMG_5777.HEIC  IMG_5916.HEIC  IMG_6583.HEIC\r\n",
      "IMG_5511.HEIC  IMG_5643.HEIC  IMG_5778.HEIC  IMG_5917.HEIC  IMG_6584.HEIC\r\n",
      "IMG_5512.HEIC  IMG_5644.HEIC  IMG_5779.HEIC  IMG_5918.HEIC  IMG_6585.HEIC\r\n",
      "IMG_5513.HEIC  IMG_5645.HEIC  IMG_5780.HEIC  IMG_5919.HEIC  IMG_6586.HEIC\r\n",
      "IMG_5514.HEIC  IMG_5646.heic  IMG_5781.HEIC  IMG_5920.HEIC  IMG_6587.HEIC\r\n",
      "IMG_5515.HEIC  IMG_5647.HEIC  IMG_5782.HEIC  IMG_5921.HEIC  IMG_6588.HEIC\r\n",
      "IMG_5516.HEIC  IMG_5648.HEIC  IMG_5783.HEIC  IMG_5922.HEIC  IMG_6590.HEIC\r\n",
      "IMG_5517.HEIC  IMG_5649.HEIC  IMG_5784.HEIC  IMG_5923.HEIC  IMG_6591.HEIC\r\n",
      "IMG_5518.HEIC  IMG_5650.HEIC  IMG_5785.HEIC  IMG_5924.HEIC  IMG_6592.HEIC\r\n",
      "IMG_5519.HEIC  IMG_5651.HEIC  IMG_5795.HEIC  IMG_5925.HEIC  IMG_6593.HEIC\r\n",
      "IMG_5520.HEIC  IMG_5652.HEIC  IMG_5796.HEIC  IMG_5926.HEIC  IMG_6594.HEIC\r\n",
      "IMG_5521.HEIC  IMG_5653.HEIC  IMG_5797.HEIC  IMG_5927.HEIC  IMG_6595.HEIC\r\n",
      "IMG_5522.HEIC  IMG_5654.HEIC  IMG_5798.HEIC  IMG_5928.HEIC  IMG_6596.HEIC\r\n",
      "IMG_5523.HEIC  IMG_5655.HEIC  IMG_5799.HEIC  IMG_5929.HEIC  IMG_6597.HEIC\r\n",
      "IMG_5524.HEIC  IMG_5656.HEIC  IMG_5800.HEIC  IMG_5930.HEIC  IMG_6598.HEIC\r\n",
      "IMG_5525.HEIC  IMG_5657.HEIC  IMG_5801.HEIC  IMG_5931.HEIC  IMG_6599.HEIC\r\n",
      "IMG_5526.HEIC  IMG_5658.HEIC  IMG_5802.HEIC  IMG_5932.HEIC  IMG_6600.HEIC\r\n",
      "IMG_5527.HEIC  IMG_5659.HEIC  IMG_5803.HEIC  IMG_5933.HEIC  IMG_6601.HEIC\r\n",
      "IMG_5528.HEIC  IMG_5660.HEIC  IMG_5804.HEIC  IMG_5934.HEIC  IMG_6602.HEIC\r\n",
      "IMG_5529.HEIC  IMG_5661.HEIC  IMG_5805.HEIC  IMG_5935.HEIC  IMG_6606.HEIC\r\n",
      "IMG_5530.HEIC  IMG_5662.HEIC  IMG_5806.HEIC  IMG_5936.HEIC  IMG_6607.HEIC\r\n",
      "IMG_5531.HEIC  IMG_5663.HEIC  IMG_5807.HEIC  IMG_5937.HEIC  IMG_6608.HEIC\r\n",
      "IMG_5532.HEIC  IMG_5664.HEIC  IMG_5808.HEIC  IMG_5938.HEIC  IMG_6609.HEIC\r\n",
      "IMG_5533.HEIC  IMG_5665.HEIC  IMG_5809.HEIC  IMG_5939.HEIC  IMG_6612.HEIC\r\n",
      "IMG_5534.HEIC  IMG_5666.HEIC  IMG_5810.HEIC  IMG_5940.HEIC  IMG_6613.HEIC\r\n",
      "IMG_5535.HEIC  IMG_5667.HEIC  IMG_5811.HEIC  IMG_5941.HEIC  IMG_6614.HEIC\r\n",
      "IMG_5536.HEIC  IMG_5673.HEIC  IMG_5812.HEIC  IMG_5942.HEIC  IMG_6616.HEIC\r\n",
      "IMG_5537.HEIC  IMG_5674.HEIC  IMG_5813.HEIC  IMG_5943.HEIC  IMG_6617.HEIC\r\n",
      "IMG_5538.HEIC  IMG_5675.HEIC  IMG_5814.HEIC  IMG_5944.HEIC  IMG_6618.HEIC\r\n",
      "IMG_5539.HEIC  IMG_5676.HEIC  IMG_5815.HEIC  IMG_5945.HEIC  IMG_6619.HEIC\r\n",
      "IMG_5540.HEIC  IMG_5677.HEIC  IMG_5816.HEIC  IMG_5946.HEIC  IMG_6620.HEIC\r\n",
      "IMG_5541.HEIC  IMG_5678.HEIC  IMG_5817.HEIC  IMG_5947.HEIC  IMG_6621.HEIC\r\n",
      "IMG_5542.HEIC  IMG_5679.HEIC  IMG_5818.HEIC  IMG_5948.HEIC  IMG_6622.HEIC\r\n",
      "IMG_5543.HEIC  IMG_5680.HEIC  IMG_5819.HEIC  IMG_5949.HEIC  IMG_6623.HEIC\r\n",
      "IMG_5544.HEIC  IMG_5682.HEIC  IMG_5820.HEIC  IMG_5950.HEIC  IMG_6624.HEIC\r\n",
      "IMG_5545.HEIC  IMG_5683.HEIC  IMG_5821.HEIC  IMG_5951.HEIC  IMG_6625.HEIC\r\n",
      "IMG_5546.HEIC  IMG_5684.HEIC  IMG_5822.HEIC  IMG_6456.HEIC  IMG_6626.HEIC\r\n",
      "IMG_5547.HEIC  IMG_5685.HEIC  IMG_5823.HEIC  IMG_6457.HEIC  IMG_6627.HEIC\r\n",
      "IMG_5548.HEIC  IMG_5686.HEIC  IMG_5824.HEIC  IMG_6458.HEIC  IMG_6628.HEIC\r\n",
      "IMG_5549.HEIC  IMG_5687.HEIC  IMG_5826.HEIC  IMG_6459.HEIC  IMG_6631.HEIC\r\n",
      "IMG_5550.HEIC  IMG_5688.HEIC  IMG_5827.HEIC  IMG_6463.HEIC  IMG_6633.HEIC\r\n",
      "IMG_5551.HEIC  IMG_5689.HEIC  IMG_5828.HEIC  IMG_6464.HEIC  IMG_6634.HEIC\r\n",
      "IMG_5552.HEIC  IMG_5690.HEIC  IMG_5829.HEIC  IMG_6465.HEIC  IMG_6635.HEIC\r\n",
      "IMG_5553.HEIC  IMG_5691.HEIC  IMG_5830.HEIC  IMG_6466.HEIC  IMG_6636.HEIC\r\n",
      "IMG_5554.HEIC  IMG_5692.HEIC  IMG_5831.HEIC  IMG_6469.HEIC  IMG_6638.HEIC\r\n",
      "IMG_5555.HEIC  IMG_5694.HEIC  IMG_5832.HEIC  IMG_6470.HEIC  IMG_6639.HEIC\r\n",
      "IMG_5556.HEIC  IMG_5695.HEIC  IMG_5833.HEIC  IMG_6472.HEIC  IMG_6640.HEIC\r\n",
      "IMG_5557.HEIC  IMG_5696.HEIC  IMG_5834.HEIC  IMG_6473.HEIC  IMG_6641.HEIC\r\n",
      "IMG_5558.HEIC  IMG_5697.HEIC  IMG_5835.HEIC  IMG_6474.HEIC  IMG_6643.HEIC\r\n",
      "IMG_5559.HEIC  IMG_5698.HEIC  IMG_5836.HEIC  IMG_6475.HEIC  IMG_6644.HEIC\r\n",
      "IMG_5560.HEIC  IMG_5700.HEIC  IMG_5837.HEIC  IMG_6476.HEIC  IMG_6645.HEIC\r\n",
      "IMG_5561.HEIC  IMG_5701.HEIC  IMG_5838.HEIC  IMG_6477.HEIC  IMG_6646.HEIC\r\n",
      "IMG_5562.HEIC  IMG_5702.HEIC  IMG_5839.HEIC  IMG_6478.HEIC  IMG_6647.HEIC\r\n",
      "IMG_5563.HEIC  IMG_5703.HEIC  IMG_5840.HEIC  IMG_6479.HEIC  IMG_6649.HEIC\r\n",
      "IMG_5565.HEIC  IMG_5704.HEIC  IMG_5841.HEIC  IMG_6480.HEIC  IMG_6650.HEIC\r\n",
      "IMG_5566.HEIC  IMG_5705.HEIC  IMG_5842.HEIC  IMG_6481.HEIC  IMG_6651.HEIC\r\n",
      "IMG_5567.HEIC  IMG_5706.HEIC  IMG_5843.HEIC  IMG_6485.HEIC  IMG_6652.HEIC\r\n",
      "IMG_5568.HEIC  IMG_5707.HEIC  IMG_5844.HEIC  IMG_6486.HEIC  IMG_6653.HEIC\r\n",
      "IMG_5569.HEIC  IMG_5708.HEIC  IMG_5845.HEIC  IMG_6489.HEIC  IMG_6654.HEIC\r\n",
      "IMG_5570.HEIC  IMG_5709.HEIC  IMG_5846.HEIC  IMG_6490.HEIC  IMG_6655.HEIC\r\n",
      "IMG_5571.HEIC  IMG_5710.HEIC  IMG_5847.HEIC  IMG_6492.HEIC  IMG_6656.HEIC\r\n",
      "IMG_5572.HEIC  IMG_5711.HEIC  IMG_5848.HEIC  IMG_6494.HEIC  IMG_6657.HEIC\r\n",
      "IMG_5574.HEIC  IMG_5712.HEIC  IMG_5849.HEIC  IMG_6495.HEIC  IMG_6660.HEIC\r\n",
      "IMG_5575.HEIC  IMG_5713.HEIC  IMG_5850.HEIC  IMG_6496.HEIC  IMG_6661.HEIC\r\n",
      "IMG_5576.HEIC  IMG_5714.HEIC  IMG_5851.HEIC  IMG_6497.HEIC  IMG_6662.HEIC\r\n",
      "IMG_5577.HEIC  IMG_5715.HEIC  IMG_5852.HEIC  IMG_6498.HEIC  IMG_6665.HEIC\r\n",
      "IMG_5578.HEIC  IMG_5716.HEIC  IMG_5853.HEIC  IMG_6499.HEIC  IMG_6666.HEIC\r\n",
      "IMG_5579.HEIC  IMG_5717.HEIC  IMG_5854.HEIC  IMG_6505.HEIC  IMG_6667.HEIC\r\n",
      "IMG_5581.HEIC  IMG_5718.HEIC  IMG_5855.HEIC  IMG_6506.HEIC  IMG_6668.HEIC\r\n",
      "IMG_5582.HEIC  IMG_5719.HEIC  IMG_5856.HEIC  IMG_6507.HEIC  IMG_6669.HEIC\r\n",
      "IMG_5583.HEIC  IMG_5720.HEIC  IMG_5857.HEIC  IMG_6510.HEIC  IMG_6670.HEIC\r\n",
      "IMG_5584.HEIC  IMG_5721.HEIC  IMG_5858.HEIC  IMG_6511.HEIC  IMG_6671.HEIC\r\n",
      "IMG_5585.HEIC  IMG_5722.HEIC  IMG_5859.HEIC  IMG_6512.HEIC  IMG_6673.HEIC\r\n",
      "IMG_5588.HEIC  IMG_5723.HEIC  IMG_5860.HEIC  IMG_6513.HEIC  IMG_6674.HEIC\r\n",
      "IMG_5589.HEIC  IMG_5724.HEIC  IMG_5861.HEIC  IMG_6514.HEIC  IMG_6677.HEIC\r\n",
      "IMG_5590.HEIC  IMG_5725.HEIC  IMG_5862.HEIC  IMG_6515.HEIC  IMG_6678.HEIC\r\n",
      "IMG_5591.HEIC  IMG_5726.HEIC  IMG_5863.HEIC  IMG_6516.HEIC  IMG_6679.HEIC\r\n",
      "IMG_5592.HEIC  IMG_5727.HEIC  IMG_5864.HEIC  IMG_6517.HEIC  IMG_6680.HEIC\r\n",
      "IMG_5593.HEIC  IMG_5728.HEIC  IMG_5866.HEIC  IMG_6518.HEIC  IMG_6681.HEIC\r\n",
      "IMG_5594.HEIC  IMG_5729.HEIC  IMG_5867.HEIC  IMG_6519.HEIC  IMG_6682.HEIC\r\n",
      "IMG_5595.HEIC  IMG_5730.HEIC  IMG_5868.HEIC  IMG_6521.HEIC  IMG_6683.HEIC\r\n",
      "IMG_5596.HEIC  IMG_5731.HEIC  IMG_5871.HEIC  IMG_6522.HEIC  IMG_6684.HEIC\r\n",
      "IMG_5597.HEIC  IMG_5732.HEIC  IMG_5872.HEIC  IMG_6523.HEIC  IMG_6685.HEIC\r\n",
      "IMG_5598.HEIC  IMG_5733.HEIC  IMG_5873.HEIC  IMG_6524.HEIC  IMG_6686.HEIC\r\n",
      "IMG_5599.HEIC  IMG_5734.HEIC  IMG_5874.HEIC  IMG_6525.HEIC  IMG_6687.HEIC\r\n",
      "IMG_5600.HEIC  IMG_5735.HEIC  IMG_5875.HEIC  IMG_6526.HEIC  IMG_6688.HEIC\r\n",
      "IMG_5601.HEIC  IMG_5736.HEIC  IMG_5876.HEIC  IMG_6527.HEIC  IMG_6689.HEIC\r\n",
      "IMG_5602.HEIC  IMG_5737.HEIC  IMG_5877.HEIC  IMG_6528.HEIC  IMG_6695.HEIC\r\n",
      "IMG_5603.HEIC  IMG_5738.HEIC  IMG_5878.HEIC  IMG_6529.HEIC  IMG_6696.HEIC\r\n",
      "IMG_5604.HEIC  IMG_5739.HEIC  IMG_5879.HEIC  IMG_6530.HEIC  IMG_6698.HEIC\r\n",
      "IMG_5605.HEIC  IMG_5740.HEIC  IMG_5880.HEIC  IMG_6531.HEIC  IMG_6700.HEIC\r\n",
      "IMG_5606.HEIC  IMG_5741.HEIC  IMG_5881.HEIC  IMG_6532.HEIC  IMG_6701.HEIC\r\n",
      "IMG_5607.HEIC  IMG_5742.HEIC  IMG_5882.HEIC  IMG_6533.HEIC  IMG_6702.HEIC\r\n",
      "IMG_5608.HEIC  IMG_5743.HEIC  IMG_5883.HEIC  IMG_6534.HEIC  IMG_6703.HEIC\r\n",
      "IMG_5609.HEIC  IMG_5745.HEIC  IMG_5884.HEIC  IMG_6539.HEIC  IMG_6704.HEIC\r\n",
      "IMG_5610.HEIC  IMG_5746.HEIC  IMG_5885.HEIC  IMG_6540.HEIC  IMG_6711.HEIC\r\n",
      "IMG_5611.HEIC  IMG_5748.HEIC  IMG_5886.HEIC  IMG_6541.HEIC  IMG_6712.HEIC\r\n",
      "IMG_5612.HEIC  IMG_5749.HEIC  IMG_5887.HEIC  IMG_6542.HEIC  IMG_6713.HEIC\r\n",
      "IMG_5613.HEIC  IMG_5750.HEIC  IMG_5888.HEIC  IMG_6548.HEIC  IMG_6714.HEIC\r\n",
      "IMG_5614.HEIC  IMG_5751.HEIC  IMG_5889.HEIC  IMG_6549.HEIC\r\n"
     ]
    }
   ],
   "source": [
    "ls HEIC"
   ]
  },
  {
   "cell_type": "code",
   "execution_count": 9,
   "id": "be8a6789",
   "metadata": {},
   "outputs": [],
   "source": [
    "mkdir JPG"
   ]
  },
  {
   "cell_type": "code",
   "execution_count": 26,
   "id": "a1419d23",
   "metadata": {},
   "outputs": [
    {
     "name": "stdout",
     "output_type": "stream",
     "text": [
      "IMG_5533.HEIC\n"
     ]
    }
   ],
   "source": [
    "import os, subprocess\n",
    "\n",
    "directory = './JPG'\n",
    "files = {}\n",
    "for filename in os.listdir('./JPG'):\n",
    "    files[filename[0:-4]] = True\n",
    "\n",
    "\n",
    "directory = './HEIC'\n",
    "\n",
    "for filename in os.listdir(directory):\n",
    "    if filename[0:-5] in files:\n",
    "        continue \n",
    "    print(filename) \n",
    "#     if filename.lower().endswith(\".heic\"): \n",
    "#         print('Converting %s...' % os.path.join(directory, filename))\n",
    "#         subprocess.run([\"magick\", \"%s\" % os.path.join(directory, filename), \"%s\" % os.path.join(\"./JPG\", (filename[0:-5] + '.jpg'))])\n",
    "#         continue\n",
    "# #         break"
   ]
  },
  {
   "cell_type": "code",
   "execution_count": 42,
   "id": "99d8fe16",
   "metadata": {},
   "outputs": [
    {
     "name": "stdout",
     "output_type": "stream",
     "text": [
      "\u001b[34mDiving\u001b[m\u001b[m/         IMG_6509.MOV    IMG_6615.MOV    IMG_6692.MOV    \u001b[34mcompressed\u001b[m\u001b[m/\r\n",
      "\u001b[34mHEIC\u001b[m\u001b[m/           IMG_6603.MOV    IMG_6642.MOV    \u001b[34mJPG\u001b[m\u001b[m/            test.jpg\r\n",
      "IMG_5475.jpg    IMG_6604.MOV    IMG_6648.MOV    Untitled.ipynb\r\n"
     ]
    }
   ],
   "source": [
    "ls"
   ]
  },
  {
   "cell_type": "code",
   "execution_count": 45,
   "id": "7208dad0",
   "metadata": {},
   "outputs": [
    {
     "name": "stdout",
     "output_type": "stream",
     "text": [
      "20\n",
      "40\n",
      "60\n",
      "80\n",
      "100\n",
      "120\n",
      "140\n",
      "160\n",
      "180\n",
      "200\n",
      "220\n",
      "240\n",
      "260\n",
      "280\n",
      "300\n",
      "320\n",
      "340\n",
      "360\n",
      "380\n",
      "400\n",
      "420\n",
      "440\n"
     ]
    }
   ],
   "source": [
    "from io import BytesIO\n",
    "from PIL import Image\n",
    "\n",
    "files = {}\n",
    "for filename in os.listdir('./compressed'):\n",
    "    files[filename] = True\n",
    "\n",
    "cc = 0\n",
    "for filename in os.listdir('./JPG'):\n",
    "    if filename in files:\n",
    "        continue \n",
    "    \n",
    "    cc += 1\n",
    "    if cc%20==0:\n",
    "        print(cc)\n",
    "        \n",
    "    im1 = Image.open(f\"./JPG/{filename}\")\n",
    "    buffer = BytesIO()\n",
    "    im1.save(buffer, \"JPEG\", optimize=True, quality=30)\n",
    "\n",
    "    # ... do something else ...\n",
    "\n",
    "    # write the buffer to a file to make sure it worked\n",
    "    with open(f\"./compressed/{filename}\", \"wb\") as handle:\n",
    "        handle.write(buffer.getbuffer())"
   ]
  },
  {
   "cell_type": "code",
   "execution_count": 47,
   "id": "96cd94f9",
   "metadata": {},
   "outputs": [
    {
     "name": "stdout",
     "output_type": "stream",
     "text": [
      ".DS_Store\n",
      "20\n",
      "40\n",
      "60\n"
     ]
    }
   ],
   "source": [
    "files = {}\n",
    "for filename in os.listdir('./compressed_diving'):\n",
    "    files[filename] = True\n",
    "\n",
    "cc = 0\n",
    "for filename in os.listdir('./Diving'):\n",
    "    try:\n",
    "        if filename in files:\n",
    "            continue \n",
    "\n",
    "        cc += 1\n",
    "        if cc%20==0:\n",
    "            print(cc)\n",
    "\n",
    "        im1 = Image.open(f\"./Diving/{filename}\")\n",
    "        buffer = BytesIO()\n",
    "        im1.save(buffer, \"JPEG\", optimize=True, quality=30)\n",
    "\n",
    "        # ... do something else ...\n",
    "\n",
    "        # write the buffer to a file to make sure it worked\n",
    "        with open(f\"./compressed_diving/{filename}\", \"wb\") as handle:\n",
    "            handle.write(buffer.getbuffer())\n",
    "    except:\n",
    "        print(filename)"
   ]
  },
  {
   "cell_type": "code",
   "execution_count": 48,
   "id": "5efd34e7",
   "metadata": {},
   "outputs": [
    {
     "name": "stdout",
     "output_type": "stream",
     "text": [
      "\u001b[34mDiving\u001b[m\u001b[m/            IMG_6604.MOV       IMG_6648.MOV       \u001b[34mcompressed\u001b[m\u001b[m/\r\n",
      "IMG_6509.MOV       IMG_6615.MOV       IMG_6692.MOV       \u001b[34mcompressed_diving\u001b[m\u001b[m/\r\n",
      "IMG_6603.MOV       IMG_6642.MOV       Untitled.ipynb\r\n"
     ]
    }
   ],
   "source": [
    "ls"
   ]
  },
  {
   "cell_type": "code",
   "execution_count": null,
   "id": "e10f704b",
   "metadata": {},
   "outputs": [],
   "source": []
  }
 ],
 "metadata": {
  "kernelspec": {
   "display_name": "Python 3 (ipykernel)",
   "language": "python",
   "name": "python3"
  },
  "language_info": {
   "codemirror_mode": {
    "name": "ipython",
    "version": 3
   },
   "file_extension": ".py",
   "mimetype": "text/x-python",
   "name": "python",
   "nbconvert_exporter": "python",
   "pygments_lexer": "ipython3",
   "version": "3.9.7"
  }
 },
 "nbformat": 4,
 "nbformat_minor": 5
}
