{
 "cells": [
  {
   "cell_type": "code",
   "execution_count": 13,
   "id": "0849f01a-02f6-48a6-abf7-0c681a21475d",
   "metadata": {},
   "outputs": [],
   "source": [
    "from __future__ import print_function\n",
    "import pickle\n",
    "import os.path\n",
    "from googleapiclient.discovery import build\n",
    "from google_auth_oauthlib.flow import InstalledAppFlow\n",
    "from google.auth.transport.requests import Request"
   ]
  },
  {
   "cell_type": "code",
   "execution_count": 15,
   "id": "3cbbab0a-c6f3-4243-b9f0-bacadd48cc4b",
   "metadata": {},
   "outputs": [],
   "source": [
    "# import sys\n",
    "# print(sys.executable)\n",
    "# print(sys.version)\n",
    "# print(sys.version_info)"
   ]
  },
  {
   "cell_type": "code",
   "execution_count": 17,
   "id": "7d7c5ebe-a908-4e3c-ad06-c6b7f8d085a9",
   "metadata": {},
   "outputs": [],
   "source": [
    "with open('token.pickle', 'rb') as token:\n",
    "    creds = pickle.load(token)"
   ]
  },
  {
   "cell_type": "code",
   "execution_count": 16,
   "id": "8912d3fc-3be7-4811-adea-0876b0d61c2e",
   "metadata": {},
   "outputs": [],
   "source": [
    "# flow = InstalledAppFlow.from_client_secrets_file('credentials.json', SCOPES)\n",
    "# creds = flow.run_local_server(port=0)"
   ]
  },
  {
   "cell_type": "code",
   "execution_count": 18,
   "id": "287811a3-6c56-43ab-baef-86eaf77dfc0f",
   "metadata": {},
   "outputs": [
    {
     "name": "stdout",
     "output_type": "stream",
     "text": [
      "Please visit this URL to authorize this application: https://accounts.google.com/o/oauth2/auth?response_type=code&client_id=378815117574-d1326urt3g82g3fc0cn68ecoooe03uhg.apps.googleusercontent.com&redirect_uri=http%3A%2F%2Flocalhost%3A64689%2F&scope=https%3A%2F%2Fwww.googleapis.com%2Fauth%2Fdrive.metadata.readonly&state=AbJWoqDgliK0FelwyrCj4s8AUGp0Vw&access_type=offline\n"
     ]
    }
   ],
   "source": [
    "# If modifying these scopes, delete the file token.pickle.\n",
    "SCOPES = ['https://www.googleapis.com/auth/drive.metadata.readonly']\n",
    "creds = None\n",
    "\n",
    "# # If there are no (valid) credentials available, let the user log in.\n",
    "if not creds or not creds.valid:\n",
    "    if creds and creds.expired and creds.refresh_token:\n",
    "        creds.refresh(Request())\n",
    "    else:\n",
    "        flow = InstalledAppFlow.from_client_secrets_file('credentials.json', SCOPES)\n",
    "        creds = flow.run_local_server(port=0)\n",
    "    # Save the credentials for the next run\n",
    "    with open('token.pickle', 'wb') as token:\n",
    "        pickle.dump(creds, token)\n",
    "\n",
    "service = build('drive', 'v3', credentials=creds)"
   ]
  },
  {
   "cell_type": "code",
   "execution_count": null,
   "id": "7c905897-b8b4-4407-8746-45ae187c5ea2",
   "metadata": {},
   "outputs": [],
   "source": []
  },
  {
   "cell_type": "code",
   "execution_count": 19,
   "id": "fe25a335-a560-4aa8-9b68-eb3a811598b6",
   "metadata": {},
   "outputs": [
    {
     "name": "stdout",
     "output_type": "stream",
     "text": [
      "ls year-in-review-2024/\n"
     ]
    }
   ],
   "source": [
    "q = [\n",
    "    {\n",
    "        \"id\": \"1epV5S829Ae3pTz2R8PB-zSBoWmfZOOmk\",\n",
    "        \"path\": \"year-in-review-2024/\"\n",
    "    }\n",
    "]\n",
    "# with open(\"img_folders.csv\") as fin:\n",
    "#     for line in fin:\n",
    "#         line = line.strip().split(\",\")\n",
    "#         q.append({\n",
    "#             \"id\": line[1],\n",
    "#             \"path\": line[0]\n",
    "#         })\n",
    "\n",
    "\n",
    "fin = open(\"_imgs.csv\", \"w\")\n",
    "while len(q)>0:\n",
    "    target_folder = q.pop()\n",
    "    target_folder_path = target_folder[\"path\"]\n",
    "    target_folder_id = target_folder[\"id\"]\n",
    "    print(\"ls\", target_folder_path)\n",
    "\n",
    "    page_token = None\n",
    "    while True:\n",
    "        response = service.files().list(q=f\"('{target_folder_id}' in parents) and (mimeType contains 'image/' or mimeType contains 'video/')\",\n",
    "                                            spaces='drive',\n",
    "                                            fields='nextPageToken, files(id, name)',\n",
    "                                            pageToken=page_token).execute()\n",
    "        for file in response.get('files', []):\n",
    "            # Process change\n",
    "            o = {\n",
    "                \"id\": file.get('id'),\n",
    "                \"path\": target_folder_path+file.get('name')\n",
    "            }\n",
    "\n",
    "            fin.write(f\"{o['path']},{o['id']}\\n\")\n",
    "        page_token = response.get('nextPageToken', None)\n",
    "        if page_token is None:\n",
    "            break\n",
    "\n",
    "fin.close()"
   ]
  },
  {
   "cell_type": "code",
   "execution_count": null,
   "id": "33432919-f046-451d-98e7-24f189b260f8",
   "metadata": {},
   "outputs": [],
   "source": []
  },
  {
   "cell_type": "code",
   "execution_count": null,
   "id": "6b2a6edf-9a49-49f7-965e-46a97616b9c1",
   "metadata": {},
   "outputs": [],
   "source": []
  }
 ],
 "metadata": {
  "kernelspec": {
   "display_name": "Python 3 (ipykernel)",
   "language": "python",
   "name": "python3"
  },
  "language_info": {
   "codemirror_mode": {
    "name": "ipython",
    "version": 3
   },
   "file_extension": ".py",
   "mimetype": "text/x-python",
   "name": "python",
   "nbconvert_exporter": "python",
   "pygments_lexer": "ipython3",
   "version": "3.9.6"
  }
 },
 "nbformat": 4,
 "nbformat_minor": 5
}
